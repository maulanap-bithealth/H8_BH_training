{
 "cells": [
  {
   "cell_type": "code",
   "execution_count": 14,
   "id": "52772357",
   "metadata": {},
   "outputs": [
    {
     "name": "stdout",
     "output_type": "stream",
     "text": [
      "[1, 2, 3, 4, 5]\n",
      "{'a': 1, 'b': 2, 'c': 3}\n",
      "[1, 2, 3, 4, 5, 6]\n",
      "{'a': 1, 'b': 2, 'c': 3, 'd': 4}\n",
      "[2, 3, 4, 5, 6]\n",
      "{'b': 2, 'c': 3, 'd': 4}\n"
     ]
    }
   ],
   "source": [
    "### no. 1\n",
    "\n",
    "#Create\n",
    "a = [1,2,3,4,5]\n",
    "z = {\n",
    "    'a' : 1,\n",
    "    'b' : 2,\n",
    "    'c' : 3,\n",
    "}\n",
    "\n",
    "#Read\n",
    "print(a)\n",
    "print(z)\n",
    "\n",
    "#Update\n",
    "a.append(6)\n",
    "print(a)\n",
    "\n",
    "z['d'] = 4\n",
    "print(z)\n",
    "\n",
    "#Delete\n",
    "a.pop(0)\n",
    "print(a)\n",
    "\n",
    "del z['a']\n",
    "print(z)"
   ]
  },
  {
   "cell_type": "code",
   "execution_count": 1,
   "id": "e1b9177e",
   "metadata": {},
   "outputs": [
    {
     "name": "stdout",
     "output_type": "stream",
     "text": [
      "Enter the first number: 1\n",
      "Enter the second number: 2\n",
      "2.0 is greater!\n"
     ]
    }
   ],
   "source": [
    "### no. 2\n",
    "\n",
    "num1 = float(input(\"Enter the first number: \"))\n",
    "num2 = float(input(\"Enter the second number: \"))\n",
    "\n",
    "if num1 > num2:\n",
    "    print(f'{num1} is greater!')\n",
    "elif num2 > num1:\n",
    "    print(f'{num2} is greater!')\n",
    "else:\n",
    "    print(\"Both numbers are equal.\")"
   ]
  },
  {
   "cell_type": "code",
   "execution_count": 3,
   "id": "98bb953d",
   "metadata": {},
   "outputs": [
    {
     "name": "stdout",
     "output_type": "stream",
     "text": [
      "Enter a year: 1998\n",
      "1998 is not a leap year.\n"
     ]
    }
   ],
   "source": [
    "### no. 3\n",
    "\n",
    "year = int(input(\"Enter a year: \"))\n",
    "if (year % 4 == 0 and year % 100 != 0) or (year % 400 == 0):    \n",
    "    print(f\"{year} is a leap year.\")\n",
    "else:    \n",
    "    print(f\"{year} is not a leap year.\")"
   ]
  },
  {
   "cell_type": "code",
   "execution_count": 8,
   "id": "40d54f6e",
   "metadata": {},
   "outputs": [
    {
     "name": "stdout",
     "output_type": "stream",
     "text": [
      "Sum of even numbers from 1 to 100: 2550\n"
     ]
    }
   ],
   "source": [
    "### no. 4\n",
    "\n",
    "total = 0\n",
    "num = 2\n",
    "\n",
    "while num <= 100:\n",
    "    total += num\n",
    "    num += 2\n",
    "print(\"Sum of even numbers from 1 to 100:\", total)"
   ]
  },
  {
   "cell_type": "code",
   "execution_count": 18,
   "id": "278779ca",
   "metadata": {},
   "outputs": [
    {
     "name": "stdout",
     "output_type": "stream",
     "text": [
      "Enter password: abis\n",
      "Incorrect password. Try again!\n",
      "Enter password: secret\n",
      "Access granted.\n"
     ]
    }
   ],
   "source": [
    "### no. 5\n",
    "\n",
    "password = 'secret'\n",
    "\n",
    "while True:\n",
    "    user_input = input(\"Enter password: \")\n",
    "    if user_input == password:\n",
    "        print('Access granted.')\n",
    "        break\n",
    "    else:\n",
    "        print('Incorrect password. Try again!')"
   ]
  },
  {
   "cell_type": "code",
   "execution_count": 22,
   "id": "fb5ca00a",
   "metadata": {},
   "outputs": [
    {
     "name": "stdout",
     "output_type": "stream",
     "text": [
      "Enter a number: 11\n",
      "11 x 1 = 11\n",
      "11 x 2 = 22\n",
      "11 x 3 = 33\n",
      "11 x 4 = 44\n",
      "11 x 5 = 55\n",
      "11 x 6 = 66\n",
      "11 x 7 = 77\n",
      "11 x 8 = 88\n",
      "11 x 9 = 99\n",
      "11 x 10 = 110\n"
     ]
    }
   ],
   "source": [
    "### no. 6\n",
    "\n",
    "num = int(input(\"Enter a number: \"))\n",
    "\n",
    "for i in range (1, 11):\n",
    "    print(f'{num} x {i} = {num * i}')"
   ]
  },
  {
   "cell_type": "code",
   "execution_count": 25,
   "id": "ad365662",
   "metadata": {},
   "outputs": [
    {
     "name": "stdout",
     "output_type": "stream",
     "text": [
      "Enter a string: assalamualaikum warahmatullahi wabarakaatuh\\\n",
      "Number of vowels in the string: 20\n"
     ]
    }
   ],
   "source": [
    "### no. 7\n",
    "\n",
    "text = input('Enter a string: ')\n",
    "text = text.lower()\n",
    "\n",
    "vowel_count = 0\n",
    "\n",
    "for a in text:\n",
    "    if a in \"aeiou\":\n",
    "        vowel_count += 1\n",
    "        \n",
    "print(f'Number of vowels in the string: {vowel_count}')"
   ]
  },
  {
   "cell_type": "code",
   "execution_count": 39,
   "id": "4145c7e3",
   "metadata": {},
   "outputs": [
    {
     "name": "stdout",
     "output_type": "stream",
     "text": [
      "Halo, selamat pagi/siang/sore/malam John\n"
     ]
    },
    {
     "data": {
      "text/plain": [
       "25"
      ]
     },
     "execution_count": 39,
     "metadata": {},
     "output_type": "execute_result"
    }
   ],
   "source": [
    "### no. 8\n",
    "\n",
    "def sapa(nama):\n",
    "    print(f'Halo, selamat pagi/siang/sore/malam {nama}')\n",
    "    \n",
    "    \n",
    "def kuadrat(angka):\n",
    "    return angka**2\n",
    "\n",
    "\n",
    "sapa(\"John\")\n",
    "kuadrat(5)"
   ]
  },
  {
   "cell_type": "code",
   "execution_count": 45,
   "id": "56b6d7ba",
   "metadata": {},
   "outputs": [
    {
     "name": "stdout",
     "output_type": "stream",
     "text": [
      "agus \n"
     ]
    }
   ],
   "source": [
    "### no. 9\n",
    "\n",
    "def luas(p = 1.0, l = 1.0):\n",
    "    return p*l\n",
    "\n",
    "def bentuk_nama(depan, belakang = ''):\n",
    "    print(f'{depan} {belakang}')\n",
    "    \n",
    "luas(4,3)\n",
    "bentuk_nama(\"agus\", \"melati\")"
   ]
  },
  {
   "cell_type": "code",
   "execution_count": 61,
   "id": "af38bfa4",
   "metadata": {},
   "outputs": [
    {
     "name": "stdout",
     "output_type": "stream",
     "text": [
      "100.0\n"
     ]
    },
    {
     "data": {
      "text/plain": [
       "27"
      ]
     },
     "execution_count": 61,
     "metadata": {},
     "output_type": "execute_result"
    }
   ],
   "source": [
    "### no. 10\n",
    "\n",
    "def konversi(derajat):\n",
    "    celsius = (derajat -32)* 5/9\n",
    "    return celsius\n",
    "\n",
    "def hitung_pangkat(angka, pangkat):\n",
    "    hasil = 1\n",
    "    for _ in range(pangkat):\n",
    "        hasil *= angka\n",
    "    return hasil\n",
    "    \n",
    "\n",
    "print(konversi(212))\n",
    "hitung_pangkat(3, 3)"
   ]
  },
  {
   "cell_type": "code",
   "execution_count": 72,
   "id": "623ebb4c",
   "metadata": {},
   "outputs": [],
   "source": [
    "### no. 11\n",
    "\n",
    "def greet(name):\n",
    "    return f\"Hello, {name}!\"\n",
    "\n",
    "pi = 3.14159265359\n",
    "\n",
    "def square(x):    \n",
    "    return x ** 2"
   ]
  },
  {
   "cell_type": "code",
   "execution_count": 75,
   "id": "fb2a954d",
   "metadata": {},
   "outputs": [
    {
     "name": "stdout",
     "output_type": "stream",
     "text": [
      "Hello, Maul!\n",
      "Luas lingkarang dengan radius 5 adalah 78.54\n"
     ]
    }
   ],
   "source": [
    "### no. 12\n",
    "\n",
    "import maul_main\n",
    "\n",
    "message = maul_main.greet(\"Maul\")\n",
    "print(message)\n",
    "\n",
    "radius = 5\n",
    "area = maul_main.pi * maul_main.square(radius)\n",
    "print(f'Luas lingkarang dengan radius {radius} adalah {area:.2f}')"
   ]
  },
  {
   "cell_type": "code",
   "execution_count": null,
   "id": "b72c2b72",
   "metadata": {},
   "outputs": [],
   "source": [
    "### no. 13\n",
    "\n",
    "'''\n",
    "python main.py\n",
    "\n",
    "Hello, Maul!\n",
    "Luas lingkarang dengan radius 5 adalah 78.54\n",
    "'''"
   ]
  },
  {
   "cell_type": "code",
   "execution_count": null,
   "id": "1ad86979",
   "metadata": {},
   "outputs": [],
   "source": [
    "### no. 14\n",
    "\n",
    "def tambah(x, y):\n",
    "    return x + y\n",
    "\n",
    "def kurang(x,y):\n",
    "    return x - y\n",
    "\n",
    "def kali(x, y):\n",
    "    return x * y\n",
    "\n",
    "def bagi(x, y):\n",
    "    if y == 0:\n",
    "        return \"Tidak bisa dibagi oleh 0\"\n",
    "    return x / y\n",
    "\n",
    "while True:\n",
    "    print(\"Pilih operasi:\")\n",
    "    print(\"1. Tambah\")\n",
    "    print(\"2. Kurang\")\n",
    "    print(\"3. Kali\")\n",
    "    print(\"4. Bagi\")\n",
    "    print(\"5. Keluar\")\n",
    "    \n",
    "    pilihan = input(\"Masukkan nomor operasi 1/2/3/4/5: \")\n",
    "    \n",
    "    if pilihan == '5':\n",
    "        print(\"Keluar dari kalkulator\")\n",
    "        break\n",
    "    angka1 = float(input(\"Masukkan angka pertama: \"))\n",
    "    angka2 = float(input(\"Masukkan angka kedua: \"))\n",
    "    \n",
    "    if pilihan == '1':\n",
    "        print(\"Hasil:\", tambah(angka1, angka2))\n",
    "    elif pilihan == '2':\n",
    "        print(\"Hasil:\", kurang(angka1, angka2))\n",
    "    elif pilihan == '3':\n",
    "        print(\"Hasil:\", kali(angka1, angka2))\n",
    "    elif pilihan == '4':\n",
    "        print(\"Hasil:\", bagi(angka1, angka2))\n",
    "    else:\n",
    "        print(\"Pilihan tidak valid\")"
   ]
  },
  {
   "cell_type": "code",
   "execution_count": null,
   "id": "771d7e3f",
   "metadata": {},
   "outputs": [],
   "source": [
    "### no. 15\n",
    "\n",
    "shopping_list = []\n",
    "\n",
    "def tambah_item(item):\n",
    "    shopping_list.append(item)\n",
    "    print(f'{item} telah ditambahkan ke daftar belanja.')\n",
    "\n",
    "def hapus_item(item):\n",
    "    if item in shopping_list:\n",
    "        shopping_list.remove(item)\n",
    "        print(f'{item} telah dihapus dari daftar belanja.')\n",
    "    else:\n",
    "        print(f'{item} tidak ditemukan dalam daftar belanja')\n",
    "\n",
    "def tampilkan_daftar():\n",
    "    print(\"Daftar Belanja:\")\n",
    "    for item in shopping_list:\n",
    "        print(\"-\", item)\n",
    "        \n",
    "while True:\n",
    "    print(\"Apa yang ingin Anda lakukan?\")\n",
    "    print(\"1. Tambah item ke daftar belanja\")\n",
    "    print(\"2. Hapus item ke daftar belanja\")\n",
    "    print(\"3. Tampilkan daftar belanja\")\n",
    "    print(\"4. Keluar\")\n",
    "    \n",
    "    pilihan = input(\"Pilih tindakan (1/2/3/4): \")\n",
    "    \n",
    "    if pilihan == '1':\n",
    "        item = input(\"Masukkan item yang ingin ditambahkan: \")\n",
    "        tambah_item(item)\n",
    "    elif pilihan == '2':\n",
    "        item = input(\"Masukkan item yang ingin dihapus: \")\n",
    "        hapus_item(item)\n",
    "    elif pilihan == '3':\n",
    "        tampilkan_daftar()\n",
    "    elif pilihan == '4':\n",
    "        print(\"Keluar dari daftar belanja\")\n",
    "        break\n",
    "    else:\n",
    "        print(\"Pilihan tidak valid\")"
   ]
  },
  {
   "cell_type": "code",
   "execution_count": null,
   "id": "0f0d627d",
   "metadata": {},
   "outputs": [],
   "source": [
    "### no. 16\n",
    "\n",
    "def hitung_bmi(berat, tinggi):\n",
    "    tinggi_m = tinggi / 100\n",
    "    bmi = berat / (tinggi_m ** 2)\n",
    "    return bmi\n",
    "\n",
    "def kategori_bmi(bmi):\n",
    "    if bmi < 18.5:        \n",
    "        return \"Kurus\"    \n",
    "    elif 18.5 <= bmi < 24.9:        \n",
    "        return \"Normal\"    \n",
    "    elif 25 <= bmi < 29.9:        \n",
    "        return \"Gemuk\"    \n",
    "    else:        \n",
    "        return \"Obesitas\"\n",
    "\n",
    "berat = float(input(\"Masukkan berat badan (kg): \"))\n",
    "tinggi = float(input(\"Masukkan tinggi badan (cm): \"))\n",
    "\n",
    "bmi = hitung_bmi(berat, tinggi)\n",
    "kategori = kategori_bmi(bmi)\n",
    "\n",
    "print(f'BMI Anda adalah {bmi:.2f} ({kategori}).')"
   ]
  },
  {
   "cell_type": "code",
   "execution_count": null,
   "id": "95ede942",
   "metadata": {},
   "outputs": [],
   "source": [
    "### no. 17\n",
    "\n",
    "teks = '''Ini adalah contoh teks.\n",
    "Teks ini digunakan untuk latihan pencarian kata.'''\n",
    "\n",
    "kata_cari = input(\"Masukkan kata yang ingin Anda cari: \")\n",
    "\n",
    "if kata_cari in teks:\n",
    "    print(f\"'{kata_cari}' ditemukan dalam teks.\")\n",
    "else:\n",
    "    print(f\"'{kata_cari}' tidak ditemukan dalam teks.\")"
   ]
  },
  {
   "cell_type": "code",
   "execution_count": null,
   "id": "f9cf6b72",
   "metadata": {},
   "outputs": [],
   "source": [
    "### no. 18\n",
    "\n",
    "def konversi_mata_uang(jumlah, nilai_tukar):\n",
    "    return jumlah * nilai_tukar\n",
    "\n",
    "nilai_tukar_usd_ke_idr = 14500\n",
    "\n",
    "jumlah_usd = float(input(\"Masukkan jumlah dalam USD: \"))\n",
    "jumlah_idr = konversi_mata_uang(jumlah_usd, nilai_tukar_usd_ke_idr)\n",
    "\n",
    "print(f\"{jumlah_usd} USD setara dengan {jumlah_idr} IDR.\")"
   ]
  },
  {
   "cell_type": "code",
   "execution_count": null,
   "id": "24359e3a",
   "metadata": {},
   "outputs": [],
   "source": [
    "import pandas as pd\n",
    "\n",
    "def baca_data_excel(nama_file):\n",
    "    df = pd.read_excel(nama_file)\n",
    "    return df\n",
    "\n",
    "def tulis_data_excel(nama_file, df):\n",
    "    df.to_excel(nama_file, index=False)\n",
    "    \n",
    "def main():\n",
    "    nama_file = 'produk.xlsx'\n",
    "    produk = baca_data_excel(nama_file)\n",
    "    \n",
    "    print(\"Data Produk\")\n",
    "    print(produk)\n",
    "    \n",
    "    tambah_produk = input(\"Tambah produk baru? (y/n): \")\n",
    "    if tambah_produk.lower() == 'y':\n",
    "        nama_produk = input(\"Nama produk: \")\n",
    "        harga_produk = input(\"Harga produk(IDR): \")\n",
    "        stok_produk = input(\"Stok produk: \")\n",
    "        \n",
    "        produk_baru = {'Nama Produk': nama_produk, 'Harga': harga_produk, 'Stok': stok_produk}\n",
    "        produk = produk.append(produk_baru, ignore_index=True)\n",
    "        \n",
    "        tulis_data_excel(nama_file,produk)\n",
    "        print(\"Produk berhasil ditambahkan dan disimpan\")\n",
    "\n",
    "if __name__==\"__main__\":\n",
    "    main()"
   ]
  },
  {
   "cell_type": "code",
   "execution_count": null,
   "id": "05b19910",
   "metadata": {},
   "outputs": [],
   "source": [
    "import sqlite3\n",
    "\n",
    "def baca_data_sqlite(database_file):\n",
    "    connection = sqlite3.connect(database_file)\n",
    "    cursor = connection.cursor()\n",
    "    cursor.execute(\"SELECT * FROM produk\")\n",
    "    data = cursor.fetchall()\n",
    "    connection.close()\n",
    "    return data\n",
    "\n",
    "def tambah_data_sqlite(database_file, nama_produk, harga, stok):\n",
    "    connection = sqlite3.connect(database_file)\n",
    "    cursor = connection.cursor()\n",
    "    cursor.execute (\"INSERT INTO produk (nama_produk, harga, stok) VALUES (?, ?, ?)\",                   \n",
    "                    (nama_produk, harga, stok))\n",
    "    connection.commit()\n",
    "    connection.close()\n",
    "\n",
    "def main():\n",
    "    database_file = 'produk.db'\n",
    "    produk = baca_data_sqlite(database_file)\n",
    "    \n",
    "    print(\"Data Produk: \")\n",
    "    for item in produk:\n",
    "        print(f'{item[1]}: {item[2]} IDR, Stok: {item[3]}')\n",
    "        \n",
    "    tambah_produk = input(\"Tambah produk baru? (y/n): \")\n",
    "    if tambah_produk.lower() == 'y':\n",
    "        nama_produk = input(\"Nama produk: \")\n",
    "        harga_produk = input(\"Harga produk (IDR): \")\n",
    "        stok_produk = input(\"Stok produk: \")\n",
    "        \n",
    "        tambah_data_sqlite(database_file, nama_produk, harga_produk, stok_produk)\n",
    "        print(\"Produk berhasil ditambahkan dan disimpan.\")\n",
    "\n",
    "if __name__==\"__main__\":\n",
    "    main()"
   ]
  },
  {
   "cell_type": "code",
   "execution_count": null,
   "id": "115b5ebb",
   "metadata": {},
   "outputs": [],
   "source": [
    "import csv\n",
    "\n",
    "def baca_data_csv(nama_file):\n",
    "    data = []\n",
    "    with open(nama_file, mode = 'r') as file:\n",
    "         csv_reader = csv.DictReader(file)\n",
    "         for row in csv_reader:\n",
    "             data.append(row)\n",
    "    return data\n",
    "\n",
    "def tulis_data_csv(nama_file, data):\n",
    "    with open(nama_file, mode=\"w\", newline=\"\") as file:\n",
    "         fieldnames = data[0].keys()\n",
    "         writer = csv.DictWriter(file, fieldnames = fieldnames)\n",
    "         writer.writerheader()\n",
    "         writer.writerows(data)\n",
    "\n",
    "def main():\n",
    "    nama_file = \"produk.csv\"\n",
    "    produk = baca_data_csv(nama_file)\n",
    "    print(\"Data Produk: \")\n",
    "    for item in produk:\n",
    "        print(f\"{item['Nama Produk']}: {item['Harga']} IDR, Stok: {item['Stok']}\")\n",
    "\n",
    "\n",
    "    tambah_produk = input(\"Tambah produk baru? (y/n): \")\n",
    "    if tambah_produk.lower() == \"y\":\n",
    "        nama_produk = input(\"Nama Produk: \")\n",
    "        harga_produk = input(\"Harga produk: \")\n",
    "        stok_produk = input(\"Stok produk: \")\n",
    "    \n",
    "        produk_baru = {\"Nama Produk\" : nama_produk, \"Harga\" : harga_produk, \"Stok\": stok_produk}\n",
    "        produk.append(produk_baru)\n",
    "        \n",
    "        tulis_data_csv(nama_file, produk)\n",
    "        print(\"Produk berhasil ditambahkan dan disimpan.\")\n",
    "\n",
    "if __name__==\"__main__\":\n",
    "    main()"
   ]
  }
 ],
 "metadata": {
  "kernelspec": {
   "display_name": "Python 3 (ipykernel)",
   "language": "python",
   "name": "python3"
  },
  "language_info": {
   "codemirror_mode": {
    "name": "ipython",
    "version": 3
   },
   "file_extension": ".py",
   "mimetype": "text/x-python",
   "name": "python",
   "nbconvert_exporter": "python",
   "pygments_lexer": "ipython3",
   "version": "3.11.5"
  }
 },
 "nbformat": 4,
 "nbformat_minor": 5
}
