{
 "cells": [
  {
   "cell_type": "code",
   "execution_count": 50,
   "id": "3d5601fc",
   "metadata": {},
   "outputs": [
    {
     "name": "stdout",
     "output_type": "stream",
     "text": [
      "kalo cuacanya badai\n",
      "bermain permainan papan dan meminum coklat panas\n"
     ]
    }
   ],
   "source": [
    "import random\n",
    "\n",
    "weather = [\"hujan\", \"mendung\", \"cerah\", \"terik\", \"badai\"]\n",
    "keluar = [\"cerah\", \"terik\"]\n",
    "\n",
    "sekarang = random.choice(weather)\n",
    "print(\"kalo cuacanya\", end=\" \")\n",
    "if sekarang in keluar:\n",
    "    print(sekarang,)\n",
    "    print(\"beli gula di warung\")\n",
    "elif sekarang == \"mendung\":\n",
    "    print(sekarang,)\n",
    "    print(\"main semut\")\n",
    "else:\n",
    "    print(sekarang,)\n",
    "    print('bermain permainan papan dan meminum coklat panas')"
   ]
  },
  {
   "cell_type": "code",
   "execution_count": 51,
   "id": "26193e71",
   "metadata": {},
   "outputs": [
    {
     "name": "stdout",
     "output_type": "stream",
     "text": [
      "(first suite)\n",
      "x is small\n"
     ]
    }
   ],
   "source": [
    "x = 20\n",
    "\n",
    "if x < 50:\n",
    "    print('(first suite)')\n",
    "    print('x is small')\n",
    "else:\n",
    "    print('(second suite)')\n",
    "    print('x is large')"
   ]
  },
  {
   "cell_type": "code",
   "execution_count": 58,
   "id": "8d693379",
   "metadata": {},
   "outputs": [
    {
     "name": "stdout",
     "output_type": "stream",
     "text": [
      "oke\n",
      "oke\n",
      "oke\n",
      "oke\n",
      "oke\n",
      "oke\n",
      "oke\n",
      "oke\n",
      "oke\n",
      "beres\n"
     ]
    }
   ],
   "source": [
    "n = 10\n",
    "\n",
    "while n>0:\n",
    "    n -=1\n",
    "    if n == 4:\n",
    "        continue\n",
    "    else:\n",
    "        print(n)\n",
    "print('beres')"
   ]
  },
  {
   "cell_type": "code",
   "execution_count": 67,
   "id": "17045dab",
   "metadata": {},
   "outputs": [
    {
     "name": "stdout",
     "output_type": "stream",
     "text": [
      "grandmother\n"
     ]
    }
   ],
   "source": [
    "age = 111\n",
    "gender = 'C'\n",
    "\n",
    "if age < 18:\n",
    "    if gender == 'M':\n",
    "        print('son')\n",
    "    else:\n",
    "        print('daughter')\n",
    "elif age >= 18 and age < 65:\n",
    "    if gender == 'M':\n",
    "        print('father')\n",
    "    else:\n",
    "        print('mother')\n",
    "else:\n",
    "    if gender == 'M':\n",
    "        print('grandfather')\n",
    "    else:\n",
    "        print('grandmother')"
   ]
  },
  {
   "cell_type": "code",
   "execution_count": 73,
   "id": "ac17c25f",
   "metadata": {},
   "outputs": [
    {
     "name": "stdout",
     "output_type": "stream",
     "text": [
      "foo\n",
      "> baz\n",
      "> qux\n",
      "bar\n",
      "> baz\n",
      "> qux\n"
     ]
    }
   ],
   "source": [
    "a = ['foo', 'bar']\n",
    "\n",
    "while len(a):\n",
    "    print(a.pop(0))\n",
    "    \n",
    "    b = ['baz', 'qux']\n",
    "    \n",
    "    while len(b):\n",
    "        print('>', b.pop(0))"
   ]
  },
  {
   "cell_type": "code",
   "execution_count": 78,
   "id": "a0e73eb4",
   "metadata": {
    "scrolled": false
   },
   "outputs": [
    {
     "name": "stdout",
     "output_type": "stream",
     "text": [
      "1\n",
      "4\n",
      "7\n"
     ]
    }
   ],
   "source": [
    "for i in range (1,10, 3):\n",
    "    print(i)"
   ]
  },
  {
   "cell_type": "code",
   "execution_count": 85,
   "id": "4c8a65e7",
   "metadata": {},
   "outputs": [
    {
     "name": "stdout",
     "output_type": "stream",
     "text": [
      "1\n",
      "2\n",
      "3\n"
     ]
    }
   ],
   "source": [
    "d = {'foo': 1, 'bar': 2, 'baz': 3}\n",
    "\n",
    "for a in d.values():\n",
    "    print(a)"
   ]
  },
  {
   "cell_type": "code",
   "execution_count": 86,
   "id": "8d286ccc",
   "metadata": {},
   "outputs": [
    {
     "name": "stdout",
     "output_type": "stream",
     "text": [
      "foo : 1\n",
      "bar : 2\n",
      "baz : 3\n"
     ]
    }
   ],
   "source": [
    "for a, b in d.items():\n",
    "    print(a, ':', b)"
   ]
  },
  {
   "cell_type": "code",
   "execution_count": 89,
   "id": "1161ca43",
   "metadata": {},
   "outputs": [
    {
     "name": "stdout",
     "output_type": "stream",
     "text": [
      "foo\n"
     ]
    }
   ],
   "source": [
    "for i in ['foo', 'bar', 'baz', 'qux']:\n",
    "    if 'b' in i:\n",
    "        break\n",
    "    print(i)"
   ]
  },
  {
   "cell_type": "code",
   "execution_count": 90,
   "id": "bbd3483e",
   "metadata": {},
   "outputs": [
    {
     "name": "stdout",
     "output_type": "stream",
     "text": [
      "foo\n"
     ]
    }
   ],
   "source": [
    " if 1<10:   \n",
    "    for i in ['foo', 'bar', 'baz', 'qux']:\n",
    "        if i == 'bar':\n",
    "            break\n",
    "        print(i)\n",
    "    else:\n",
    "        print('Done.')  # Will not execute\n",
    "else:\n",
    "    ('selesai')"
   ]
  },
  {
   "cell_type": "code",
   "execution_count": 94,
   "id": "cfacc289",
   "metadata": {},
   "outputs": [
    {
     "name": "stdout",
     "output_type": "stream",
     "text": [
      "Ketikan temperatur yang ingin dikonversi, eg. 45F, 120C: 212F\n",
      "Temperaturnya adalah 100 derajat Fahrenheit\n"
     ]
    }
   ],
   "source": [
    "temp = input(\"Ketikan temperatur yang ingin dikonversi, eg. 45F, 120C: \")\n",
    "degree = int(temp[:-1])\n",
    "i_conversion = temp[-1]\n",
    "\n",
    "if i_conversion == 'C':\n",
    "    result = int((9 * degree)/5 + 32)\n",
    "    print(\"Temperaturnya adalah\", result, \"derajat Celsius\")\n",
    "elif i_conversion == 'F':\n",
    "    result = int((degree - 32)/9 * 5)\n",
    "    print(\"Temperaturnya adalah\", result, \"derajat Fahrenheit\")\n",
    "else:\n",
    "    print('Masukkan input yang benar')\n",
    "\n"
   ]
  },
  {
   "cell_type": "code",
   "execution_count": 99,
   "id": "a732431e",
   "metadata": {},
   "outputs": [
    {
     "name": "stdout",
     "output_type": "stream",
     "text": [
      "Masukkan pesan: stop\n",
      "oke cukup\n"
     ]
    }
   ],
   "source": [
    "while True:\n",
    "    msg = input(\"Masukkan pesan: \").lower()\n",
    "    if msg != 'stop':\n",
    "        print(msg)\n",
    "    elif msg == 'stop':\n",
    "        print('oke cukup')\n",
    "        break"
   ]
  },
  {
   "cell_type": "code",
   "execution_count": null,
   "id": "df821aff",
   "metadata": {},
   "outputs": [],
   "source": []
  }
 ],
 "metadata": {
  "kernelspec": {
   "display_name": "Python 3 (ipykernel)",
   "language": "python",
   "name": "python3"
  },
  "language_info": {
   "codemirror_mode": {
    "name": "ipython",
    "version": 3
   },
   "file_extension": ".py",
   "mimetype": "text/x-python",
   "name": "python",
   "nbconvert_exporter": "python",
   "pygments_lexer": "ipython3",
   "version": "3.11.5"
  }
 },
 "nbformat": 4,
 "nbformat_minor": 5
}
